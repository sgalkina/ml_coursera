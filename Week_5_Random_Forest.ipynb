{
 "cells": [
  {
   "cell_type": "code",
   "execution_count": 3,
   "metadata": {
    "collapsed": false
   },
   "outputs": [
    {
     "name": "stdout",
     "output_type": "stream",
     "text": [
      "Populating the interactive namespace from numpy and matplotlib\n"
     ]
    }
   ],
   "source": [
    "%pylab inline\n",
    "import matplotlib.pyplot as plt\n",
    "plt.style.use('ggplot')\n",
    "\n",
    "import pandas as pd\n",
    "\n",
    "df = pd.read_csv(\"abalone.csv\")"
   ]
  },
  {
   "cell_type": "markdown",
   "metadata": {},
   "source": [
    "Преобразуйте признак Sex в числовой: значение F должно перейти в -1, I — в 0, M — в 1"
   ]
  },
  {
   "cell_type": "code",
   "execution_count": 4,
   "metadata": {
    "collapsed": true
   },
   "outputs": [],
   "source": [
    "df['Sex'] = df['Sex'].map(lambda x: 1 if x == 'M' else (-1 if x == 'F' else 0))"
   ]
  },
  {
   "cell_type": "markdown",
   "metadata": {},
   "source": [
    "Обучите случайный лес (sklearn.ensemble.RandomForestRegressor) с различным числом деревьев: от 1 до 50 (не забудьте выставить \"random_state=1\" в конструкторе). Для каждого из вариантов оцените качество работы полученного леса на кросс-валидации по 5 блокам. Используйте параметры \"random_state=1\" и \"shuffle=True\" при создании генератора кросс-валидации sklearn.cross_validation.KFold. В качестве меры качества воспользуйтесь долей правильных ответов (sklearn.metrics.r2_score). Обратите внимание на изменение качества по мере роста числа деревьев. Ухудшается ли оно?"
   ]
  },
  {
   "cell_type": "code",
   "execution_count": 35,
   "metadata": {
    "collapsed": false
   },
   "outputs": [],
   "source": [
    "from sklearn.cross_validation import KFold\n",
    "from sklearn.ensemble import RandomForestRegressor\n",
    "from sklearn.metrics import r2_score\n",
    "\n",
    "def r2_scores_of_n_trees(data, target):\n",
    "    kf = KFold(len(data.index), n_folds=5, shuffle=True, random_state=1)\n",
    "    data = data.values\n",
    "    n_trees = range(1, 51)\n",
    "    r2_scores = []\n",
    "    for n in n_trees:\n",
    "        scores = []\n",
    "        for train_index, test_index in kf:\n",
    "            clf = RandomForestRegressor(n_estimators=n, random_state=1)\n",
    "            clf.fit(data[train_index], target[train_index])\n",
    "            predictions = clf.predict(data[test_index])\n",
    "            scores.append(r2_score(target[test_index], predictions))\n",
    "        r2_scores.append(np.mean(scores))\n",
    "    return r2_scores\n",
    "    \n",
    "r2_scores = r2_scores_of_n_trees(df[df.columns[:-1]], df['Rings'])"
   ]
  },
  {
   "cell_type": "markdown",
   "metadata": {},
   "source": [
    "Определите, при каком минимальном количестве деревьев случайный лес показывает качество на кросс-валидации выше 0.52. Это количество и будет ответом на задание."
   ]
  },
  {
   "cell_type": "code",
   "execution_count": 37,
   "metadata": {
    "collapsed": false
   },
   "outputs": [
    {
     "name": "stdout",
     "output_type": "stream",
     "text": [
      "22\n"
     ]
    },
    {
     "data": {
      "image/png": "[encoded data removed]",
      "text/plain": [
       "<matplotlib.figure.Figure at 0x7f25d334b250>"
      ]
     },
     "metadata": {},
     "output_type": "display_data"
    }
   ],
   "source": [
    "f = pylab.figure(figsize=(20,4))\n",
    "ax = f.add_axes([0, 0, 1, 1])\n",
    "n_trees = range(1, 51)\n",
    "ax.plot(n_trees, r2_scores, '-o')\n",
    "ax.set_xticks(n_trees)\n",
    "ax.set_xticklabels(n_trees)\n",
    "for i in n_trees:\n",
    "    if r2_scores[i-1] > 0.52:\n",
    "        plt.annotate(\"{0:.3f}\".format(r2_scores[i-1]), (i, r2_scores[i-1]))\n",
    "        print i\n",
    "        break\n",
    "f.show()"
   ]
  },
  {
   "cell_type": "code",
   "execution_count": 38,
   "metadata": {
    "collapsed": true
   },
   "outputs": [],
   "source": [
    "with open(\"submissions/5_1.txt\", \"w\") as f:\n",
    "    f.write(\"22\")"
   ]
  }
 ],
 "metadata": {
  "kernelspec": {
   "display_name": "Python 2",
   "language": "python",
   "name": "python2"
  },
  "language_info": {
   "codemirror_mode": {
    "name": "ipython",
    "version": 2
   },
   "file_extension": ".py",
   "mimetype": "text/x-python",
   "name": "python",
   "nbconvert_exporter": "python",
   "pygments_lexer": "ipython2",
   "version": "2.7.8"
  }
 },
 "nbformat": 4,
 "nbformat_minor": 0
}
