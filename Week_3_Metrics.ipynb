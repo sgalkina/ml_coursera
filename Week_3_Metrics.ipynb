{
 "cells": [
  {
   "cell_type": "code",
   "execution_count": 23,
   "metadata": {
    "collapsed": false
   },
   "outputs": [
    {
     "name": "stdout",
     "output_type": "stream",
     "text": [
      "Populating the interactive namespace from numpy and matplotlib\n",
      "200\n"
     ]
    }
   ],
   "source": [
    "%pylab inline\n",
    "import matplotlib.pyplot as plt\n",
    "plt.style.use('ggplot')\n",
    "\n",
    "import pandas as pd\n",
    "\n",
    "df = pd.read_csv(\"classification.csv\")\n",
    "print len(df.index)"
   ]
  },
  {
   "cell_type": "markdown",
   "metadata": {},
   "source": [
    "Заполните таблицу ошибок классификации. Для этого подсчитайте величины TP, FP, FN и TN согласно их определениям. Например, FP — это количество объектов, имеющих класс 0, но отнесенных алгоритмом к классу 1. Ответ в данном вопросе — четыре числа через пробел."
   ]
  },
  {
   "cell_type": "code",
   "execution_count": 27,
   "metadata": {
    "collapsed": false
   },
   "outputs": [
    {
     "name": "stdout",
     "output_type": "stream",
     "text": [
      "43 34 59 64\n",
      "200\n"
     ]
    }
   ],
   "source": [
    "true_positive = len(df[(df['true'] == df['pred']) & df['true']].index)\n",
    "true_negative = len(df[(df['true'] == df['pred']) & (df['true'] == 0)].index)\n",
    "false_positive = len(df[(df['true'] != df['pred']) & (df['true'] == 0)].index)\n",
    "false_negative = len(df[(df['true'] != df['pred']) & df['true']].index)\n",
    "print true_positive, false_positive, false_negative, true_negative\n",
    "print sum([true_positive, false_positive, false_negative, true_negative])"
   ]
  },
  {
   "cell_type": "code",
   "execution_count": 28,
   "metadata": {
    "collapsed": true
   },
   "outputs": [],
   "source": [
    "with open(\"submissions/3_4.txt\", \"w\") as f:\n",
    "    f.write(\"43 34 59 64\")"
   ]
  },
  {
   "cell_type": "markdown",
   "metadata": {},
   "source": [
    "Посчитайте основные метрики качества классификатора:\n",
    "* Accuracy (доля верно угаданных) — sklearn.metrics.accuracy_score\n",
    "* Precision (точность) — sklearn.metrics.precision_score\n",
    "* Recall (полнота) — sklearn.metrics.recall_score\n",
    "* F-мера — sklearn.metrics.f1_score\n",
    "\n",
    "В качестве ответа укажите эти четыре числа через пробел."
   ]
  },
  {
   "cell_type": "code",
   "execution_count": 29,
   "metadata": {
    "collapsed": false
   },
   "outputs": [
    {
     "name": "stdout",
     "output_type": "stream",
     "text": [
      "0.535 0.558441558442 0.421568627451 0.480446927374\n"
     ]
    }
   ],
   "source": [
    "from sklearn.metrics import accuracy_score, precision_score, recall_score, f1_score\n",
    "\n",
    "print accuracy_score(df['true'], df['pred']), precision_score(df['true'], df['pred']), recall_score(df['true'], df['pred']), f1_score(df['true'], df['pred'])"
   ]
  },
  {
   "cell_type": "code",
   "execution_count": 30,
   "metadata": {
    "collapsed": true
   },
   "outputs": [],
   "source": [
    "with open(\"submissions/3_5.txt\", \"w\") as f:\n",
    "    f.write(\"0.54 0.56 0.42 0.48\")"
   ]
  },
  {
   "cell_type": "markdown",
   "metadata": {},
   "source": [
    "Имеется четыре обученных классификатора. В файле scores.csv записаны истинные классы и значения степени принадлежности положительному классу для каждого классификатора на некоторой выборке:\n",
    "\n",
    "* для логистической регрессии — вероятность положительного класса (колонка score_logreg),\n",
    "* для SVM — отступ от разделяющей поверхности (колонка score_svm),\n",
    "* для метрического алгоритма — взвешенная сумма классов соседей (колонка score_knn),\n",
    "* для решающего дерева — доля положительных объектов в листе (колонка score_tree)."
   ]
  },
  {
   "cell_type": "code",
   "execution_count": 31,
   "metadata": {
    "collapsed": true
   },
   "outputs": [],
   "source": [
    "scores = pd.read_csv(\"scores.csv\")"
   ]
  },
  {
   "cell_type": "markdown",
   "metadata": {},
   "source": [
    "Посчитайте площадь под ROC-кривой для каждого классификатора. Какой классификатор имеет наибольшее значение метрики AUC-ROC (укажите название столбца)? Воспользуйтесь функцией sklearn.metrics.roc_auc_score."
   ]
  },
  {
   "cell_type": "code",
   "execution_count": 46,
   "metadata": {
    "collapsed": false
   },
   "outputs": [
    {
     "data": {
      "image/png": "[encoded data removed]",
      "text/plain": [
       "<matplotlib.figure.Figure at 0x7f25f75c4f90>"
      ]
     },
     "metadata": {},
     "output_type": "display_data"
    }
   ],
   "source": [
    "from sklearn.metrics import roc_auc_score\n",
    "\n",
    "columns = scores.columns[1:]\n",
    "roc_aucs = [roc_auc_score(scores['true'], scores[f]) for f in columns]\n",
    "f = pylab.figure()\n",
    "ax = f.add_axes([0.1, 0.1, 0.8, 0.8])\n",
    "ax.bar(range(4), roc_aucs, align='center')\n",
    "ax.set_xticks(range(4))\n",
    "ax.set_xticklabels(columns)\n",
    "f.show()"
   ]
  },
  {
   "cell_type": "code",
   "execution_count": 44,
   "metadata": {
    "collapsed": true
   },
   "outputs": [],
   "source": [
    "with open(\"submissions/3_6.txt\", \"w\") as f:\n",
    "    f.write(\"score_logreg\")"
   ]
  },
  {
   "cell_type": "markdown",
   "metadata": {},
   "source": [
    "Какой классификатор достигает наибольшей точности (Precision) при полноте (Recall) не менее 70% ? Какое значение точности при этом получается?\n",
    "\n",
    "Чтобы получить ответ на этот вопрос, найдите все точки precision-recall-кривой с помощью функции sklearn.metrics.precision_recall_curve. Она возвращает три массива: precision, recall, thresholds. В них записаны точность и полнота при определенных порогах, указанных в массиве thresholds. Найдите максимальной значение точности среди тех записей, для которых полнота не меньше, чем 0.7."
   ]
  },
  {
   "cell_type": "code",
   "execution_count": 50,
   "metadata": {
    "collapsed": false
   },
   "outputs": [
    {
     "name": "stdout",
     "output_type": "stream",
     "text": [
      "score_logreg 0.63025210084\n",
      "score_svm 0.622807017544\n",
      "score_knn 0.606557377049\n",
      "score_tree 0.651785714286\n"
     ]
    }
   ],
   "source": [
    "from sklearn.metrics import precision_recall_curve\n",
    "\n",
    "for f in scores.columns[1:]:\n",
    "    precision, recall, threshold = precision_recall_curve(scores['true'], scores[f])\n",
    "    print f, precision[recall > 0.7].max()"
   ]
  },
  {
   "cell_type": "code",
   "execution_count": 51,
   "metadata": {
    "collapsed": true
   },
   "outputs": [],
   "source": [
    "with open(\"submissions/3_7.txt\", \"w\") as f:\n",
    "    f.write(\"score_tree\")"
   ]
  }
 ],
 "metadata": {
  "kernelspec": {
   "display_name": "Python 2",
   "language": "python",
   "name": "python2"
  },
  "language_info": {
   "codemirror_mode": {
    "name": "ipython",
    "version": 2
   },
   "file_extension": ".py",
   "mimetype": "text/x-python",
   "name": "python",
   "nbconvert_exporter": "python",
   "pygments_lexer": "ipython2",
   "version": "2.7.8"
  }
 },
 "nbformat": 4,
 "nbformat_minor": 0
}
